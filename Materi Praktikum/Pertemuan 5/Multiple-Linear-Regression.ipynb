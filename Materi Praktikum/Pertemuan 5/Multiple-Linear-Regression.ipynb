{
 "cells": [
  {
   "attachments": {},
   "cell_type": "markdown",
   "metadata": {},
   "source": [
    "<center><h1>Multiple Linear Regression</h1></center>\n",
    "<hr>"
   ]
  },
  {
   "attachments": {},
   "cell_type": "markdown",
   "metadata": {},
   "source": [
    "Di notebook ini, kita akan membuat model <i>machine learning</i> untuk kasus regresi (yang memiliki target berupa nilai kontinue) dengan algoritma __Linear Regression__. Disini kita akan mempraktekkan <b>Multiple Linear Regression</b> yang berarti melibatkan beberapa variabel bebas."
   ]
  },
  {
   "attachments": {},
   "cell_type": "markdown",
   "metadata": {},
   "source": [
    "<h2>Table of Contents</h2>\n",
    "<div class=\"alert alert-block alert-info\" style=\"margin-top: 25px\">\n",
    "    <ul>\n",
    "        <li>\n",
    "            Multiple Linear Regression\n",
    "        </li>\n",
    "        <li>\n",
    "            Dataset\n",
    "        </li>\n",
    "        <li>\n",
    "            Analisis dan visualisasi data\n",
    "        </li>\n",
    "        <li>\n",
    "            Data Preparation / Preprocessing\n",
    "            <ul>\n",
    "                <li>Menangani missing values</li>\n",
    "                <li>Mengubah tipe data</li>\n",
    "                <li>Encoding</li>\n",
    "                <li>Normalisasi</li>\n",
    "                <li>Train test split</li>\n",
    "            </ul>\n",
    "        </li>\n",
    "        <li>\n",
    "            Modeling\n",
    "            <ul>\n",
    "                <li>Linear regression dengan beberapa variabel bebas</li>\n",
    "                <li>Prediksi</li>\n",
    "                <li>Evaluasi</li>\n",
    "            </ul>\n",
    "        </li>\n",
    "    </ul>\n",
    "</div>"
   ]
  },
  {
   "attachments": {},
   "cell_type": "markdown",
   "metadata": {},
   "source": [
    "<hr>\n",
    "<div class=\"alert alert-success\" style=\"margin-top: 20px\">\n",
    "    <strong>Catatan:</strong> Untuk menjalankan kode program Python di Jupyter Notebook, klik pada <i>cell</i> yang ingin di-<i>run</i> lalu tekan <kbd>Shift</kbd> + <kbd>Enter</kbd>.\n",
    "</div>"
   ]
  },
  {
   "attachments": {},
   "cell_type": "markdown",
   "metadata": {},
   "source": [
    "<div class=\"alert alert-danger\" style=\"margin-top: 20px\">\n",
    "    <strong>Warning!:</strong> Jika ada kode program yang <i>error</i> atau output yang dihasilkan tidak sesuai, silahkan <b>Restart & Run All</b> kernel pada bagian menu <b>Kernel</b> di menu bar Jupyter Notebook, atau <b>Restart & Clear Output</b> kernel kemudian jalankan satu per satu <i>cell</i> secara berurutan dari atas ke bawah.\n",
    "</div>\n",
    "<hr>"
   ]
  },
  {
   "attachments": {},
   "cell_type": "markdown",
   "metadata": {},
   "source": [
    "## Multiple Linear Regression"
   ]
  },
  {
   "attachments": {},
   "cell_type": "markdown",
   "metadata": {},
   "source": [
    "Jika <i>simple linear regression</i> hanya melibatkan satu variabel bebas $x$, maka __Multiple Linear Regression__ adalah <i>linear regression</i> yang melibatkan lebih dari satu variabel bebas $x$. Formulanya dapat ditulis sebagai berikut.\n",
    "<br>\n",
    "<br>\n",
    "$$\n",
    "y = \\theta_0 + \\theta_1  x_1 + \\theta_2  x_2 + \\theta_3  x_3 \\cdots\n",
    "$$\n",
    "<br>\n",
    "<br>"
   ]
  },
  {
   "attachments": {},
   "cell_type": "markdown",
   "metadata": {},
   "source": [
    "<hr>"
   ]
  },
  {
   "attachments": {},
   "cell_type": "markdown",
   "metadata": {},
   "source": [
    "## Dataset"
   ]
  },
  {
   "attachments": {},
   "cell_type": "markdown",
   "metadata": {},
   "source": [
    "Dataset yang digunakan adalah dataset <a href='https://archive.ics.uci.edu/ml/datasets/automobile'>Automobile</a> yang berasal dari UCI Machine Learning Repository dengan informasi detail tentang tiap kolom (terurut dari awal sampai akhir) sebagai berikut:\n",
    "\n",
    "__Attribute Information:__\n",
    "\n",
    "1. __symboling:__ -3, -2, -1, 0, 1, 2, 3.\n",
    "2. __normalized-losses:__ continuous from 65 to 256.\n",
    "3. __make:__\n",
    "alfa-romero, audi, bmw, chevrolet, dodge, honda,\n",
    "isuzu, jaguar, mazda, mercedes-benz, mercury,\n",
    "mitsubishi, nissan, peugot, plymouth, porsche,\n",
    "renault, saab, subaru, toyota, volkswagen, volvo\n",
    "\n",
    "4. __fuel-type:__ diesel, gas.\n",
    "5. __aspiration:__ std, turbo.\n",
    "6. __num-of-doors:__ four, two.\n",
    "7. __body-style:__ hardtop, wagon, sedan, hatchback, convertible.\n",
    "8. __drive-wheels:__ 4wd, fwd, rwd.\n",
    "9. __engine-location:__ front, rear.\n",
    "10. __wheel-base:__ continuous from 86.6 120.9.\n",
    "11. __length:__ continuous from 141.1 to 208.1.\n",
    "12. __width:__ continuous from 60.3 to 72.3.\n",
    "13. __height:__ continuous from 47.8 to 59.8.\n",
    "14. __curb-weight:__ continuous from 1488 to 4066.\n",
    "15. __engine-type:__ dohc, dohcv, l, ohc, ohcf, ohcv, rotor.\n",
    "16. __num-of-cylinders:__ eight, five, four, six, three, twelve, two.\n",
    "17. __engine-size:__ continuous from 61 to 326.\n",
    "18. __fuel-system:__ 1bbl, 2bbl, 4bbl, idi, mfi, mpfi, spdi, spfi.\n",
    "19. __bore:__ continuous from 2.54 to 3.94.\n",
    "20. __stroke:__ continuous from 2.07 to 4.17.\n",
    "21. __compression-ratio:__ continuous from 7 to 23.\n",
    "22. __horsepower:__ continuous from 48 to 288.\n",
    "23. __peak-rpm:__ continuous from 4150 to 6600.\n",
    "24. __city-mpg:__ continuous from 13 to 49.\n",
    "25. __highway-mpg:__ continuous from 16 to 54.\n",
    "26. __price:__ continuous from 5118 to 45400."
   ]
  },
  {
   "attachments": {},
   "cell_type": "markdown",
   "metadata": {},
   "source": [
    "Pertama, mari <i>import library</i> yang dibutuhkan terlebih dahulu seperti Pandas, Numpy, Matplotlib, dan Seaborn."
   ]
  },
  {
   "cell_type": "code",
   "execution_count": null,
   "metadata": {},
   "outputs": [],
   "source": [
    "import pandas as pd\n",
    "import numpy as np\n",
    "import matplotlib.pyplot as plt\n",
    "import seaborn as sns\n",
    "\n",
    "%matplotlib inline"
   ]
  },
  {
   "attachments": {},
   "cell_type": "markdown",
   "metadata": {},
   "source": [
    "Selanjutnya kita <i>load</i> dataset ke dalam dataframe Pandas dengan <code>read_csv()</code>."
   ]
  },
  {
   "cell_type": "code",
   "execution_count": null,
   "metadata": {},
   "outputs": [],
   "source": [
    "# Definisikan format missing values yang mungkin ada\n",
    "missing_value_format = ['N.A', 'na', 'n.a.', 'n/a', '?', '-']\n",
    "\n",
    "# Load dataset \n",
    "df = pd.read_csv('../datasets/automobile.data', header=None, na_values=missing_value_format)\n",
    "df.head(10)"
   ]
  },
  {
   "attachments": {},
   "cell_type": "markdown",
   "metadata": {},
   "source": [
    "Dataframe di atas belum memiliki nama kolom sehingga untuk memudahkan proses analisis dan pemodelan, kita akan memberi nama yang merepresentasikan kolom tersebut."
   ]
  },
  {
   "cell_type": "code",
   "execution_count": null,
   "metadata": {},
   "outputs": [],
   "source": [
    "# Membuat list nama kolom\n",
    "column_names = ['symboling', 'normalized-losses', 'make', 'fuel-type', 'aspiration', 'num-of-doors', 'body-style', \n",
    "              'drive-wheels', 'engine-location', 'wheel-base', 'length', 'width', 'height', 'curb-weight', 'engine-type',\n",
    "              'num-of-cylinders', 'engine-size', 'fuel-system', 'bore', 'stroke', 'compression-ratio', 'horsepower',\n",
    "              'peak-rpm', 'city-mpg', 'highway-mpg', 'price']\n",
    "\n",
    "# Mengubah nama kolom\n",
    "df.columns = column_names\n",
    "\n",
    "pd.set_option('display.max_columns', 100)     # Menampilkan seluruh kolom\n",
    "df.head()"
   ]
  },
  {
   "attachments": {},
   "cell_type": "markdown",
   "metadata": {},
   "source": [
    "<hr>"
   ]
  },
  {
   "attachments": {},
   "cell_type": "markdown",
   "metadata": {},
   "source": [
    "## Analisis dan visualisasi data"
   ]
  },
  {
   "attachments": {},
   "cell_type": "markdown",
   "metadata": {},
   "source": [
    "Sekarang mari kita cek info dataframe."
   ]
  },
  {
   "cell_type": "code",
   "execution_count": null,
   "metadata": {},
   "outputs": [],
   "source": [
    "# Cek info\n",
    "\n",
    "df.info()"
   ]
  },
  {
   "attachments": {},
   "cell_type": "markdown",
   "metadata": {},
   "source": [
    "Terlihat bahwa ada beberapa kolom yang memiliki <i>missing values</i>. Selanjutnya mari kita tampilkan deskripsi statistik untuk kolom numerik pada dataframe tersebut dengan <code>describe()</code>."
   ]
  },
  {
   "cell_type": "code",
   "execution_count": null,
   "metadata": {},
   "outputs": [],
   "source": [
    "# Menampilkan deskripsi statistik\n",
    "\n",
    "df.describe()"
   ]
  },
  {
   "attachments": {},
   "cell_type": "markdown",
   "metadata": {},
   "source": [
    "Kita dapat menampilkan hubungan antarvariabel <code>price</code> dan <code>horsepower</code>."
   ]
  },
  {
   "cell_type": "code",
   "execution_count": null,
   "metadata": {},
   "outputs": [],
   "source": [
    "# Scatter plot kolom 'price' dan 'horsepower'\n",
    "\n",
    "plt.scatter(df['price'], df['horsepower'])\n",
    "plt.show()"
   ]
  },
  {
   "attachments": {},
   "cell_type": "markdown",
   "metadata": {},
   "source": [
    "Kita juga dapat melihat visualisasi dari empat variabel seperti di bawah ini."
   ]
  },
  {
   "cell_type": "code",
   "execution_count": null,
   "metadata": {},
   "outputs": [],
   "source": [
    "plt.figure(figsize=(10,6))\n",
    "\n",
    "sns.scatterplot(data=df, x='price', y='horsepower', hue='body-style', size='engine-size')\n",
    "plt.show()"
   ]
  },
  {
   "attachments": {},
   "cell_type": "markdown",
   "metadata": {},
   "source": [
    "Sekarang mari kita tampilkan <i>countplot</i> dari <code>make</code> dan <code>body-style</code>."
   ]
  },
  {
   "cell_type": "code",
   "execution_count": null,
   "metadata": {},
   "outputs": [],
   "source": [
    "# Menampilkan countplot dari 'make' dan 'body-style'\n",
    "\n",
    "fig, ax = plt.subplots(ncols=2, nrows=1, figsize=(14, 5)) \n",
    "\n",
    "# Menambahkan subplot dengan indexing\n",
    "ax0 = fig.add_subplot(ax[0]) \n",
    "ax1 = fig.add_subplot(ax[1])  \n",
    "\n",
    "sns.countplot(x='make', data=df, palette='Set2', ax=ax0)\n",
    "sns.countplot(x='body-style', data=df, palette='Set2', ax=ax1)\n",
    "\n",
    "fig.autofmt_xdate(rotation=90)\n",
    "plt.subplots_adjust(wspace=0.2, hspace=0.4)\n",
    "plt.show()"
   ]
  },
  {
   "attachments": {},
   "cell_type": "markdown",
   "metadata": {},
   "source": [
    "<hr>"
   ]
  },
  {
   "attachments": {},
   "cell_type": "markdown",
   "metadata": {},
   "source": [
    "## Data Preparation / Preprocessing"
   ]
  },
  {
   "attachments": {},
   "cell_type": "markdown",
   "metadata": {},
   "source": [
    "### Missing values"
   ]
  },
  {
   "attachments": {},
   "cell_type": "markdown",
   "metadata": {},
   "source": [
    "Mari kita tangani <i>missing values</i>. Kita akan menghapus baris data yang mengandung <i>missing values</i> pada kolom <code>price</code> karena kolom tersebut merupakan kolom target sehingga sebaiknya kita tidak sembarangan mengisi <i>missing values</i>."
   ]
  },
  {
   "cell_type": "code",
   "execution_count": null,
   "metadata": {},
   "outputs": [],
   "source": [
    "# Menghapus baris yang mengandung mising values di kolom price\n",
    "df.dropna(subset=['price'], axis=0, inplace=True)\n",
    "\n",
    "# Me-reset indeks karena ada data yang terhapus\n",
    "df.reset_index(drop=True, inplace=True)"
   ]
  },
  {
   "attachments": {},
   "cell_type": "markdown",
   "metadata": {},
   "source": [
    "Selanjutnya untuk <i>missing values</i> pada kolom lainnya, kita ganti dengan nilai rata-rata. Khusus untuk kolom <code>num-of-doors</code> akan diganti dengan __'four'__ yang merupakan nilai modus dari kolom tersebut."
   ]
  },
  {
   "cell_type": "code",
   "execution_count": null,
   "metadata": {},
   "outputs": [],
   "source": [
    "# Mengganti missing values dengan 'four' untuk kolom num-of-doors\n",
    "df['num-of-doors'].fillna('four', inplace=True)\n",
    "\n",
    "# Mengganti missing values dengan mean-nya untuk kolom lainnya\n",
    "avg_norm = df['normalized-losses'].astype('float').mean(axis=0)\n",
    "df['normalized-losses'].replace(np.nan, avg_norm, inplace=True)\n",
    "\n",
    "avg_stroke = df['stroke'].astype('float').mean(axis=0)\n",
    "df['stroke'].replace(np.nan, avg_stroke, inplace=True)\n",
    "\n",
    "avg_bore = df['bore'].astype('float').mean(axis=0)\n",
    "df['bore'].replace(np.nan, avg_bore, inplace=True)\n",
    "\n",
    "avg_horse = df['horsepower'].astype('float').mean(axis=0)\n",
    "df['horsepower'].replace(np.nan, avg_horse, inplace=True)\n",
    "\n",
    "avg_peak = df['peak-rpm'].astype('float').mean(axis=0)\n",
    "df['peak-rpm'].replace(np.nan, avg_norm, inplace=True)\n",
    "\n",
    "df.head()"
   ]
  },
  {
   "attachments": {},
   "cell_type": "markdown",
   "metadata": {},
   "source": [
    "### Mengubah tipe data"
   ]
  },
  {
   "attachments": {},
   "cell_type": "markdown",
   "metadata": {},
   "source": [
    "Setelah itu, kita ubah tipe data dari kolom yang belum sesuai tipenya dengan jenis data pada tiap kolom."
   ]
  },
  {
   "cell_type": "code",
   "execution_count": null,
   "metadata": {},
   "outputs": [],
   "source": [
    "# Konversi tipe data\n",
    "\n",
    "df[['bore', 'stroke', 'peak-rpm']] = df[['bore', 'stroke', 'peak-rpm']].astype('float')\n",
    "df[['normalized-losses', 'horsepower']] = df[['normalized-losses', 'horsepower']].astype('int')\n",
    "df[['price']] = df[['price']].astype('float')"
   ]
  },
  {
   "attachments": {},
   "cell_type": "markdown",
   "metadata": {},
   "source": [
    "Mari kita cek tipe data setelah perubahan."
   ]
  },
  {
   "cell_type": "code",
   "execution_count": null,
   "metadata": {},
   "outputs": [],
   "source": [
    "# Cek tipe data\n",
    "\n",
    "df.dtypes"
   ]
  },
  {
   "attachments": {},
   "cell_type": "markdown",
   "metadata": {},
   "source": [
    "### Encoding"
   ]
  },
  {
   "attachments": {},
   "cell_type": "markdown",
   "metadata": {},
   "source": [
    "Selanjutnya adalah proses <i>encoding</i> kolom dengan data kategori menjadi numerik. Sebelumnya mari kita pisahkan terlebih dahulu data fitur dan targetnya."
   ]
  },
  {
   "cell_type": "code",
   "execution_count": null,
   "metadata": {},
   "outputs": [],
   "source": [
    "# Mendefinisikan data fitur dan target\n",
    "\n",
    "df_features = df.drop('price', axis=1)\n",
    "df_target = df['price']"
   ]
  },
  {
   "attachments": {},
   "cell_type": "markdown",
   "metadata": {},
   "source": [
    "Kemudian kita lakukan <i>encoding</i> pada beberapa kolom di <code>df_features</code> dengan <code>OrdinalEncoder()</code>."
   ]
  },
  {
   "cell_type": "code",
   "execution_count": null,
   "metadata": {},
   "outputs": [],
   "source": [
    "from sklearn.preprocessing import OrdinalEncoder\n",
    "\n",
    "# Encoding data kategori\n",
    "ord_encode = OrdinalEncoder()\n",
    "df_features['make'] = ord_encode.fit_transform(df_features[['make']])\n",
    "df_features['fuel-type'] = ord_encode.fit_transform(df_features[['fuel-type']])\n",
    "df_features['aspiration'] = ord_encode.fit_transform(df_features[['aspiration']])\n",
    "df_features['num-of-doors'] = ord_encode.fit_transform(df_features[['num-of-doors']])\n",
    "df_features['body-style'] = ord_encode.fit_transform(df_features[['body-style']])\n",
    "df_features['drive-wheels'] = ord_encode.fit_transform(df_features[['drive-wheels']])\n",
    "df_features['engine-location'] = ord_encode.fit_transform(df_features[['engine-location']])\n",
    "df_features['engine-type'] = ord_encode.fit_transform(df_features[['engine-type']])\n",
    "df_features['num-of-cylinders'] = ord_encode.fit_transform(df_features[['num-of-cylinders']])\n",
    "df_features['fuel-system'] = ord_encode.fit_transform(df_features[['fuel-system']])"
   ]
  },
  {
   "attachments": {},
   "cell_type": "markdown",
   "metadata": {},
   "source": [
    "Sekarang kita tampilkan dataframe hasil <i>encoding</i>."
   ]
  },
  {
   "cell_type": "code",
   "execution_count": null,
   "metadata": {},
   "outputs": [],
   "source": [
    "# Menampilkan dataframe hasil encoding\n",
    "\n",
    "df_features[['make', 'fuel-type', 'aspiration', 'num-of-doors', 'body-style', 'drive-wheels',\n",
    "             'engine-location', 'engine-type', 'num-of-cylinders', 'fuel-system']].head(10)"
   ]
  },
  {
   "attachments": {},
   "cell_type": "markdown",
   "metadata": {},
   "source": [
    "### Normalisasi"
   ]
  },
  {
   "attachments": {},
   "cell_type": "markdown",
   "metadata": {},
   "source": [
    "Selanjutnya adalah normalisasi data dengan <code>StandardScaler()</code>."
   ]
  },
  {
   "cell_type": "code",
   "execution_count": null,
   "metadata": {},
   "outputs": [],
   "source": [
    "from sklearn.preprocessing import StandardScaler\n",
    "\n",
    "cols = list(df_features.columns)\n",
    "\n",
    "df_features_scaled = pd.DataFrame(data = df_features)\n",
    "df_features_scaled[cols] = StandardScaler().fit_transform(df_features[cols])\n",
    "df_features_scaled.head()"
   ]
  },
  {
   "attachments": {},
   "cell_type": "markdown",
   "metadata": {},
   "source": [
    "### Train test split"
   ]
  },
  {
   "attachments": {},
   "cell_type": "markdown",
   "metadata": {},
   "source": [
    "Setelah data dinormalisasi, kita dapat membagi data menjadi data latih dan data uji dengan <i>train test split</i>. <i>Multiple linear regression</i> berarti menggunakan lebih dari satu data fitur, jadi disini kita akan menggunakan semua fitur dalam dataset."
   ]
  },
  {
   "cell_type": "code",
   "execution_count": null,
   "metadata": {},
   "outputs": [],
   "source": [
    "from sklearn.model_selection import train_test_split\n",
    "\n",
    "# Membagi data dengan train test split\n",
    "X_train, X_test, y_train, y_test = train_test_split(df_features_scaled, df_target, test_size=0.2, random_state=45)"
   ]
  },
  {
   "attachments": {},
   "cell_type": "markdown",
   "metadata": {},
   "source": [
    "Sekarang mari kita tampilkan 5 data teratas dari <code>X_train</code> dan <code>X_test</code>."
   ]
  },
  {
   "cell_type": "code",
   "execution_count": null,
   "metadata": {},
   "outputs": [],
   "source": [
    "# Menampilkan data X_train dan X_test\n",
    "\n",
    "print('Train set:', X_train.shape,  y_train.shape)\n",
    "print(X_train.head())\n",
    "print('\\n')\n",
    "print('Test set:', X_test.shape,  y_test.shape)\n",
    "print(X_test.head())"
   ]
  },
  {
   "attachments": {},
   "cell_type": "markdown",
   "metadata": {},
   "source": [
    "<hr>"
   ]
  },
  {
   "attachments": {},
   "cell_type": "markdown",
   "metadata": {},
   "source": [
    "## Modeling"
   ]
  },
  {
   "attachments": {},
   "cell_type": "markdown",
   "metadata": {},
   "source": [
    "### Linear Regression dengan beberapa variabel bebas"
   ]
  },
  {
   "attachments": {},
   "cell_type": "markdown",
   "metadata": {},
   "source": [
    "Tidak berbeda dengan <i>simple linear regression</i>, kita dapat menggunakan <i>package</i> <code>LinearRegression</code> untuk <i>multiple linear regression</i>."
   ]
  },
  {
   "cell_type": "code",
   "execution_count": null,
   "metadata": {},
   "outputs": [],
   "source": [
    "from sklearn.linear_model import LinearRegression\n",
    "\n",
    "lr_model = LinearRegression()\n",
    "lr_model.fit(X_train, y_train)"
   ]
  },
  {
   "attachments": {},
   "cell_type": "markdown",
   "metadata": {},
   "source": [
    "Sekarang kita tampilkan <i>coeficients</i> untuk tiap fitur."
   ]
  },
  {
   "cell_type": "code",
   "execution_count": null,
   "metadata": {},
   "outputs": [],
   "source": [
    "# Menampilkan koefisien\n",
    "\n",
    "lr_model.coef_"
   ]
  },
  {
   "attachments": {},
   "cell_type": "markdown",
   "metadata": {},
   "source": [
    "Lalu kita tampilkan <i>intercept</i>-nya."
   ]
  },
  {
   "cell_type": "code",
   "execution_count": null,
   "metadata": {},
   "outputs": [],
   "source": [
    "# Menampilkan intercept\n",
    "\n",
    "lr_model.intercept_"
   ]
  },
  {
   "attachments": {},
   "cell_type": "markdown",
   "metadata": {},
   "source": [
    "### Prediksi"
   ]
  },
  {
   "attachments": {},
   "cell_type": "markdown",
   "metadata": {},
   "source": [
    "Selanjutnya, kita uji model tersebut dengan <code>X_test</code> dan menampilkan hasil prediksinya."
   ]
  },
  {
   "cell_type": "code",
   "execution_count": null,
   "metadata": {},
   "outputs": [],
   "source": [
    "# Menguji model\n",
    "\n",
    "y_pred = lr_model.predict(X_test)\n",
    "y_pred"
   ]
  },
  {
   "attachments": {},
   "cell_type": "markdown",
   "metadata": {},
   "source": [
    "### Evaluasi"
   ]
  },
  {
   "attachments": {},
   "cell_type": "markdown",
   "metadata": {},
   "source": [
    "Selanjutnya kita evaluasi kinerja model dengan <code>r2_score</code>."
   ]
  },
  {
   "cell_type": "code",
   "execution_count": null,
   "metadata": {},
   "outputs": [],
   "source": [
    "from sklearn.metrics import r2_score\n",
    "\n",
    "# Menampilkan nilai r2 score\n",
    "print(\"R2-score: %.2f\" % r2_score(y_pred, y_test))"
   ]
  },
  {
   "attachments": {},
   "cell_type": "markdown",
   "metadata": {},
   "source": [
    "<hr>"
   ]
  }
 ],
 "metadata": {
  "kernelspec": {
   "display_name": "Python 3",
   "language": "python",
   "name": "python3"
  },
  "language_info": {
   "codemirror_mode": {
    "name": "ipython",
    "version": 3
   },
   "file_extension": ".py",
   "mimetype": "text/x-python",
   "name": "python",
   "nbconvert_exporter": "python",
   "pygments_lexer": "ipython3",
   "version": "3.7.3"
  }
 },
 "nbformat": 4,
 "nbformat_minor": 2
}
